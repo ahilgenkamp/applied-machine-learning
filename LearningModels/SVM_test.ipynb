{
 "cells": [
  {
   "cell_type": "code",
   "execution_count": 1,
   "metadata": {},
   "outputs": [],
   "source": [
    "import pandas as pd\n",
    "import numpy as np\n",
    "import os\n",
    "import datetime\n",
    "import time\n",
    "import glob\n",
    "import matplotlib.pyplot as plt\n",
    "#import seaborn as sns\n",
    "from sklearn import linear_model\n",
    "from sklearn.model_selection import train_test_split\n",
    "from sklearn import metrics \n",
    "\n",
    "#matplot lib notebooks display command\n",
    "%matplotlib inline\n",
    "\n",
    "#SET OPTIONS\n",
    "pd.options.display.float_format = '{:,.2f}'.format\n",
    "#GLOBAL VARIABLES\n",
    "today = datetime.date.today()\n",
    "#cwd = os.getcwd()"
   ]
  },
  {
   "cell_type": "code",
   "execution_count": 2,
   "metadata": {},
   "outputs": [
    {
     "data": {
      "text/plain": [
       "Unnamed: 0                 int64\n",
       "ID                        object\n",
       "COURTESYSENT__C             bool\n",
       "COLLECTOR                 object\n",
       "OUTSOURCE_PARTNER         object\n",
       "RESELLER                  object\n",
       "COLLECTION_STATUS         object\n",
       "HAS_TAX_EXEMP               bool\n",
       "HAS_REPLACEMENT_ORDER       bool\n",
       "ESCALATION_STATUS         object\n",
       "COLLECTOR_FORECAST        object\n",
       "BILLING_COUNTRY           object\n",
       "BILLING_LANGUAGE          object\n",
       "PAYMENT_TERM              object\n",
       "PAYMENT_TYPE              object\n",
       "SFBILL__INVOICEAGE__C      int64\n",
       "HAS_30DAY_EXTXN             bool\n",
       "PAST_DUE_FLG                bool\n",
       "LATE_PMT                    bool\n",
       "DAYS_TO_PAY                int64\n",
       "CURRENCY_CODE             object\n",
       "TOTAL_TAX                float64\n",
       "TOTAL_AMOUNT             float64\n",
       "dtype: object"
      ]
     },
     "execution_count": 2,
     "metadata": {},
     "output_type": "execute_result"
    }
   ],
   "source": [
    "#load dataset\n",
    "non_auto_df = pd.read_csv(\"../Data/non_automated_invoices_sample.csv\", encoding='utf-8')\n",
    "non_auto_df.dtypes"
   ]
  },
  {
   "cell_type": "markdown",
   "metadata": {},
   "source": [
    "## Definition of features"
   ]
  },
  {
   "cell_type": "markdown",
   "metadata": {},
   "source": [
    "\n",
    "\n",
    "'ID'- identification [DID NOT USE]\n",
    "\n",
    "'COURTESYSENT__C' -         ???\n",
    "\n",
    "'COLLECTOR' - is this name of person collecting ?\n",
    "\n",
    "'OUTSOURCE-PARTNER' - name of outsource partner ?\n",
    "\n",
    "'RESELLER' - name of reseller?\n",
    "\n",
    "'COLLECTION_STATUS' - status of collection (yes or no). Is this updated throughout process? [DID NOT USE]\n",
    "\n",
    "'HAS-TAX-EXEMPT' - has tax exemption\n",
    "\n",
    "'HAS-REPLACEMENT-ORDER' - has an order already for next billing cycle\n",
    "\n",
    "'ESCALATION_STATUS' -I assume this is updated throughout process [DID NOT USE]\n",
    "\n",
    "'COLLECTOR_FORECAST' -I assume this is updated throughout process [DID NOT USE]\n",
    "\n",
    "'BILLING_COUNTRY' - country of origin for customer\n",
    "\n",
    "'BILLING_LANGUAGE' -language of billing for customer\n",
    "\n",
    "'PAYMENT_TERM' - is this a number of days? \n",
    "\n",
    "'PAYMENT_TYPE' - how customer is paying bill, you've already eliminated credit cards right?\n",
    "\n",
    "'SFBILL___INVOICEAGE__C' INVOICE AGE [REMOVE]\n",
    "\n",
    "'HAS_30DAY_EXTXN' - when is this information determined?  \n",
    "'PAST_DUE_FLAG' - when is this updated? [DID NOT USE]\n",
    "\n",
    "'LATE_PMT' - if customer made late payment [DID NOT USE]\n",
    "\n",
    "'DAYS_TO_PAY' - days left before due?  [DID NOT USE]\n",
    "\n",
    "'CURRENCY-CODE' - is this what kind of currency they are using?\n",
    "\n",
    "'TOTAL-TAX' - total tax on product customer bought\n",
    "\n",
    "'TOTAL AMOUNT' - total customer spent on product\n",
    "\n"
   ]
  },
  {
   "cell_type": "code",
   "execution_count": 3,
   "metadata": {},
   "outputs": [],
   "source": [
    "#Normalize Numeric fields\n",
    "\n",
    "def pre_process(df, dropcols=None):\n",
    "    '''\n",
    "    The pre_process function that will return a transformed dataframe\n",
    "    Notes:\n",
    "        1) dropcols should be a list\n",
    "        2) integer varibles are transformed using mean normalization\n",
    "    '''\n",
    "    #drop columns input by the user\n",
    "    if dropcols is not None:\n",
    "        df = df.drop(columns=dropcols)\n",
    "    print(\"columns dropped\")\n",
    "    \n",
    "    #loop through remaining columns and apply the appropreate transform\n",
    "    for i in df.columns:\n",
    "        print(i)\n",
    "        '''\n",
    "        #mean normalization for int variables\n",
    "        if df[i].dtype == \"int64\" or df[i].dtype == 'float64':\n",
    "            mean = df[i].mean()\n",
    "            if (df[i].max() - df[i].min()) == 0:\n",
    "                denom = 1\n",
    "                print(\"useless int column\", i)\n",
    "                break\n",
    "            else:\n",
    "                denom = (df[i].max() - df[i].min())\n",
    "            df[i] = df[i].apply(lambda x: float(x - mean) / denom)\n",
    "        '''\n",
    "        #convert bool values to 1 and 0\n",
    "        if df[i].dtype == \"bool\":\n",
    "            df[i] = df[i].map({True: 1, False: 0})\n",
    "        elif df[i].dtype == \"object\":\n",
    "            df = pd.get_dummies(df, columns=[i], prefix = [i], dtype=\"int8\") #, sparse=True\n",
    "        \n",
    "    return df\n",
    "\n"
   ]
  },
  {
   "cell_type": "code",
   "execution_count": 4,
   "metadata": {},
   "outputs": [
    {
     "name": "stdout",
     "output_type": "stream",
     "text": [
      "executed\n",
      "columns dropped\n",
      "Unnamed: 0\n",
      "COURTESYSENT__C\n",
      "COLLECTOR\n",
      "OUTSOURCE_PARTNER\n",
      "RESELLER\n",
      "HAS_TAX_EXEMP\n",
      "HAS_REPLACEMENT_ORDER\n",
      "BILLING_COUNTRY\n",
      "BILLING_LANGUAGE\n",
      "PAYMENT_TERM\n",
      "PAYMENT_TYPE\n",
      "SFBILL__INVOICEAGE__C\n",
      "HAS_30DAY_EXTXN\n",
      "LATE_PMT\n",
      "DAYS_TO_PAY\n",
      "CURRENCY_CODE\n",
      "TOTAL_TAX\n",
      "TOTAL_AMOUNT\n",
      "done\n"
     ]
    }
   ],
   "source": [
    "print(\"executed\")\n",
    "clean_df = pre_process(non_auto_df, dropcols=['ID', 'COLLECTION_STATUS', \\\n",
    "                                              'ESCALATION_STATUS', \n",
    "                                             'PAST_DUE_FLG', 'COLLECTOR_FORECAST'])\n",
    "#clean_df.to_csv('../Data/clean_df.csv')\n",
    "#dtypes_df = clean_df.dtypes.to_frame('dtypes').reset_index()\n",
    "#dtypes_df.to_csv('../Data/clean_dtypes.csv')\n",
    "print(\"done\")"
   ]
  },
  {
   "cell_type": "code",
   "execution_count": 6,
   "metadata": {},
   "outputs": [
    {
     "name": "stdout",
     "output_type": "stream",
     "text": [
      "done\n"
     ]
    }
   ],
   "source": [
    "X = clean_df.loc[:, clean_df.columns != \"DAYS_TO_PAY\"]\n",
    "y = clean_df['DAYS_TO_PAY']\n",
    "\n",
    "X_train, X_test, y_train, y_test = train_test_split(X, y, test_size=0.20, random_state=42)\n",
    "X_train, X_valid, y_train, y_valid = train_test_split(X_train, y_train, test_size=0.20, random_state=42)\n",
    "print(\"done\")"
   ]
  },
  {
   "cell_type": "code",
   "execution_count": null,
   "metadata": {},
   "outputs": [
    {
     "name": "stdout",
     "output_type": "stream",
     "text": [
      "executed\n",
      "svrs created\n"
     ]
    }
   ],
   "source": [
    "import sklearn.svm as svm\n",
    "import sklearn.metrics as metrics\n",
    "print(\"executed\")\n",
    "#below code from sklearn documentaion\n",
    "# #############################################################################\n",
    "# Fit regression model\n",
    "svr_rbf = svm.SVR(kernel='rbf', C=100, gamma=0.1, epsilon=.1)\n",
    "svr_lin = svm.SVR(kernel='linear', C=100, gamma='auto')\n",
    "svr_poly = svm.SVR(kernel='poly', C=100, gamma='auto', degree=3, epsilon=.1,\n",
    "               coef0=1)\n",
    "#end documentation code\n",
    "\n",
    "print(\"svrs created\")\n",
    "clf_rbf = svr_rbf.fit(X_train, y_train)\n",
    "clf_lin = svr_lin.fit(X_train, y_train)\n",
    "clf_poly = svr_poly.fit(X_train, y_train)\n",
    "print(\"classifiers created\")\n",
    "pred_rbf = svr_rbf.predict(X_valid)\n",
    "pred_lin = svr_lin.predict(X_valid)\n",
    "pred_poly = svr_poly.predict(X_valid)\n",
    "\n",
    "\n",
    "print(\"Mean absolute error with rbf kernel is \", metrics.mean_absolute_error(y_valid, pred_rbf))\n",
    "print(\"Mean absolute error with linear kernel is \", metrics.mean_absolute_error(y_valid, pred_lin))\n",
    "print(\"Mean absolute error with polynomial kernel is \", metrics.mean_absolute_error(y_valid, pred_poly))"
   ]
  },
  {
   "cell_type": "code",
   "execution_count": null,
   "metadata": {},
   "outputs": [],
   "source": []
  }
 ],
 "metadata": {
  "kernelspec": {
   "display_name": "Python 3",
   "language": "python",
   "name": "python3"
  },
  "language_info": {
   "codemirror_mode": {
    "name": "ipython",
    "version": 3
   },
   "file_extension": ".py",
   "mimetype": "text/x-python",
   "name": "python",
   "nbconvert_exporter": "python",
   "pygments_lexer": "ipython3",
   "version": "3.7.2"
  }
 },
 "nbformat": 4,
 "nbformat_minor": 2
}
