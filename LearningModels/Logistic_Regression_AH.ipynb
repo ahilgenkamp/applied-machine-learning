{
 "cells": [
  {
   "cell_type": "code",
   "execution_count": 8,
   "metadata": {},
   "outputs": [],
   "source": [
    "import pandas as pd\n",
    "import numpy as np\n",
    "import os\n",
    "import datetime\n",
    "import time\n",
    "import glob\n",
    "import matplotlib.pyplot as plt\n",
    "import seaborn as sns\n",
    "from sklearn import linear_model\n",
    "from sklearn.model_selection import train_test_split\n",
    "\n",
    "#matplot lib notebooks display command\n",
    "%matplotlib inline\n",
    "\n",
    "#SET OPTIONS\n",
    "pd.options.display.float_format = '{:,.2f}'.format\n",
    "#GLOBAL VARIABLES\n",
    "today = datetime.date.today()\n",
    "cwd = os.getcwd()"
   ]
  },
  {
   "cell_type": "code",
   "execution_count": 2,
   "metadata": {},
   "outputs": [
    {
     "data": {
      "text/plain": [
       "Unnamed: 0                 int64\n",
       "ID                        object\n",
       "COURTESYSENT__C             bool\n",
       "COLLECTOR                 object\n",
       "OUTSOURCE_PARTNER         object\n",
       "RESELLER                  object\n",
       "COLLECTION_STATUS         object\n",
       "HAS_TAX_EXEMP               bool\n",
       "HAS_REPLACEMENT_ORDER       bool\n",
       "ESCALATION_STATUS         object\n",
       "COLLECTOR_FORECAST        object\n",
       "BILLING_COUNTRY           object\n",
       "BILLING_LANGUAGE          object\n",
       "PAYMENT_TERM              object\n",
       "PAYMENT_TYPE              object\n",
       "SFBILL__INVOICEAGE__C      int64\n",
       "HAS_30DAY_EXTXN             bool\n",
       "PAST_DUE_FLG                bool\n",
       "LATE_PMT                    bool\n",
       "DAYS_TO_PAY                int64\n",
       "CURRENCY_CODE             object\n",
       "TOTAL_TAX                float64\n",
       "TOTAL_AMOUNT             float64\n",
       "dtype: object"
      ]
     },
     "execution_count": 2,
     "metadata": {},
     "output_type": "execute_result"
    }
   ],
   "source": [
    "#load dataset\n",
    "non_auto_df = pd.read_csv(cwd+'\\\\non_automated_invoices.csv', encoding='utf-8')\n",
    "non_auto_df.dtypes"
   ]
  },
  {
   "cell_type": "code",
   "execution_count": 11,
   "metadata": {},
   "outputs": [],
   "source": [
    "#Normalize Numeric fields\n",
    "\n",
    "def pre_process(df, dropcols=None):\n",
    "    '''\n",
    "    The pre_process function that will return a transformed dataframe\n",
    "    Notes:\n",
    "        1) dropcols should be a list\n",
    "        2) integer varibles are transformed using mean normalization\n",
    "    '''\n",
    "    #drop columns input by the user\n",
    "    if dropcols is not None:\n",
    "        df = df.drop(columns=dropcols)\n",
    "    \n",
    "    #loop through remaining columns and apply the appropreate transform\n",
    "    for i in df.columns:\n",
    "        #mean normalization for int variables\n",
    "        if df[i].dtype == \"int64\" or df[i].dtype == 'float64':\n",
    "            mean = df[i].mean()\n",
    "            if (df[i].max() - df[i].min()) == 0:\n",
    "                denom = 1\n",
    "            else:\n",
    "                denom = (df[i].max() - df[i].min())\n",
    "            df[i] = df[i].apply(lambda x: float(x - mean) / denom)\n",
    "        #convert bool values to 1 and 0\n",
    "        elif df[i].dtype == \"bool\":\n",
    "            df[i] = df[i].map({True: 1, False: 0})\n",
    "        #convert True and False to 1 and 0\n",
    "        elif df[i].dtype == \"object\" and \"True\" in set(df[i].tolist()) and \"False\" in set(df[i].tolist()): \n",
    "            df[i] = df[i].map({'True': 1, 'False': 0})\n",
    "        elif df[i].dtype == \"object\":\n",
    "            df = pd.get_dummies(df, columns=[i], prefix = [i], dtype=\"int8\") #, sparse=True\n",
    "        \n",
    "    return df\n",
    "\n",
    "clean_df = pre_process(non_auto_df, dropcols=['ID','Unnamed: 0','OUTSOURCE_PARTNER'])\n",
    "dtypes_df = clean_df.dtypes.to_frame('dtypes').reset_index()\n",
    "dtypes_df.to_csv(cwd+'\\\\clean_dtypes.csv')"
   ]
  },
  {
   "cell_type": "code",
   "execution_count": 12,
   "metadata": {},
   "outputs": [],
   "source": [
    "X = clean_df.loc[:, clean_df.columns != \"LATE_PMT\"]\n",
    "y = clean_df['LATE_PMT']\n",
    "\n",
    "X_train, X_test, y_train, y_test = train_test_split(X, y, test_size=0.20, random_state=42)\n",
    "X_train, X_valid, y_train, y_valid = train_test_split(X_train, y_train, test_size=0.20, random_state=42)"
   ]
  },
  {
   "cell_type": "code",
   "execution_count": 16,
   "metadata": {},
   "outputs": [
    {
     "name": "stdout",
     "output_type": "stream",
     "text": [
      "Model using 1.0 as the regularization coefficient completed in 65.094sec\n",
      "Model using 3.0 as the regularization coefficient completed in 135.188sec\n",
      "Model using 5.0 as the regularization coefficient completed in 199.125sec\n",
      "Model using 7.0 as the regularization coefficient completed in 243.5sec\n",
      "Model using 9.0 as the regularization coefficient completed in 292.609sec\n"
     ]
    },
    {
     "data": {
      "image/png": "[encoded data removed]",
      "text/plain": [
       "<Figure size 432x288 with 1 Axes>"
      ]
     },
     "metadata": {
      "needs_background": "light"
     },
     "output_type": "display_data"
    }
   ],
   "source": [
    "#logistic regression model to choose regularization coef\n",
    "reg_coef_list = np.arange(1, 30.0, 5) #np.concatenate( (np.arange(0.05, 1.0, 0.05),np.arange(1, 10.0, 1)), axis=None) \n",
    "accuracy_list = []\n",
    "\n",
    "for coef in reg_coef_list:\n",
    "    start = time.process_time()\n",
    "    logreg = linear_model.LogisticRegression(solver=\"saga\", C=coef, max_iter=5000, penalty='l2')\n",
    "    logreg.fit(X=X_train, y=y_train)\n",
    "    score = logreg.score(X_valid, y_valid)\n",
    "    accuracy_list.append(round(score*100,2))\n",
    "    end = time.process_time()\n",
    "    print('Model using '+str(coef)+' as the regularization coefficient completed in '+str(round(end-start,3))+'sec')\n",
    "\n",
    "plt.plot(reg_coef_list, accuracy_list)\n",
    "plt.axvline(x=reg_coef_list[accuracy_list.index(max(accuracy_list))], color='orange', linestyle='--', \n",
    "            label='MAX: Coef = {}'.format(reg_coef_list[accuracy_list.index(max(accuracy_list))])+' | Accuracy = {}'.format(max(accuracy_list)))\n",
    "plt.title(\"Regularization Coefficient Effect on Model Accuracy\")\n",
    "plt.xlabel(\"Regularization Coef\")\n",
    "plt.ylabel(\"Model Accuracy\")\n",
    "plt.legend()\n",
    "plt.show()"
   ]
  }
 ],
 "metadata": {
  "kernelspec": {
   "display_name": "Python 3",
   "language": "python",
   "name": "python3"
  },
  "language_info": {
   "codemirror_mode": {
    "name": "ipython",
    "version": 3
   },
   "file_extension": ".py",
   "mimetype": "text/x-python",
   "name": "python",
   "nbconvert_exporter": "python",
   "pygments_lexer": "ipython3",
   "version": "3.7.3"
  }
 },
 "nbformat": 4,
 "nbformat_minor": 2
}
