{
 "cells": [
  {
   "cell_type": "code",
   "execution_count": 3,
   "metadata": {},
   "outputs": [],
   "source": [
    "import pandas as pd\n",
    "import numpy as np\n",
    "import os\n",
    "import datetime\n",
    "import time\n",
    "import glob\n",
    "import matplotlib.pyplot as plt\n",
    "#import seaborn as sns\n",
    "from sklearn import linear_model\n",
    "from sklearn.model_selection import train_test_split\n",
    "from sklearn import metrics \n",
    "\n",
    "#matplot lib notebooks display command\n",
    "%matplotlib inline\n",
    "\n",
    "#SET OPTIONS\n",
    "pd.options.display.float_format = '{:,.2f}'.format\n",
    "#GLOBAL VARIABLES\n",
    "today = datetime.date.today()\n",
    "#cwd = os.getcwd()"
   ]
  },
  {
   "cell_type": "code",
   "execution_count": 4,
   "metadata": {},
   "outputs": [
    {
     "data": {
      "text/plain": [
       "Unnamed: 0                 int64\n",
       "ID                        object\n",
       "COURTESYSENT__C             bool\n",
       "COLLECTOR                 object\n",
       "OUTSOURCE_PARTNER         object\n",
       "RESELLER                  object\n",
       "COLLECTION_STATUS         object\n",
       "HAS_TAX_EXEMP               bool\n",
       "HAS_REPLACEMENT_ORDER       bool\n",
       "ESCALATION_STATUS         object\n",
       "COLLECTOR_FORECAST        object\n",
       "BILLING_COUNTRY           object\n",
       "BILLING_LANGUAGE          object\n",
       "PAYMENT_TERM              object\n",
       "PAYMENT_TYPE              object\n",
       "SFBILL__INVOICEAGE__C      int64\n",
       "HAS_30DAY_EXTXN             bool\n",
       "PAST_DUE_FLG                bool\n",
       "LATE_PMT                    bool\n",
       "DAYS_TO_PAY                int64\n",
       "CURRENCY_CODE             object\n",
       "TOTAL_TAX                float64\n",
       "TOTAL_AMOUNT             float64\n",
       "dtype: object"
      ]
     },
     "execution_count": 4,
     "metadata": {},
     "output_type": "execute_result"
    }
   ],
   "source": [
    "#load dataset\n",
    "non_auto_df = pd.read_csv(\"../Data/non_automated_invoices_sample.csv\", encoding='utf-8')\n",
    "non_auto_df.dtypes"
   ]
  },
  {
   "cell_type": "markdown",
   "metadata": {},
   "source": [
    "## Definition of features"
   ]
  },
  {
   "cell_type": "markdown",
   "metadata": {},
   "source": [
    "\n",
    "\n",
    "'ID'- identification [DID NOT USE]\n",
    "\n",
    "'COURTESYSENT__C' -         [DID NOT USE]\n",
    "\n",
    "'COLLECTOR' - is this name of person collecting ?\n",
    "\n",
    "'OUTSOURCE-PARTNER' - name of outsource partner ?\n",
    "\n",
    "'RESELLER' - name of reseller?\n",
    "\n",
    "'COLLECTION_STATUS' - status of collection (yes or no). Is this updated throughout process? [DID NOT USE]\n",
    "\n",
    "'HAS-TAX-EXEMPT' - has tax exemption\n",
    "\n",
    "'HAS-REPLACEMENT-ORDER' - has an order already for next billing cycle\n",
    "\n",
    "'ESCALATION_STATUS' -I assume this is updated throughout process [DID NOT USE]\n",
    "\n",
    "'COLLECTOR_FORECAST' -I assume this is updated throughout process [DID NOT USE]\n",
    "\n",
    "'BILLING_COUNTRY' - country of origin for customer\n",
    "\n",
    "'BILLING_LANGUAGE' -language of billing for customer\n",
    "\n",
    "'PAYMENT_TERM' - is this a number of days? \n",
    "\n",
    "'PAYMENT_TYPE' - how customer is paying bill, you've already eliminated credit cards right?\n",
    "\n",
    "'SFBILL___INVOICEAGE__C' INVOICE AGE [REMOVE]\n",
    "\n",
    "'HAS_30DAY_EXTXN' - when is this information determined?  \n",
    "'PAST_DUE_FLAG' - when is this updated? [DID NOT USE]\n",
    "\n",
    "'LATE_PMT' - if customer made late payment [DID NOT USE]\n",
    "\n",
    "'DAYS_TO_PAY' - days left before due?  [DID NOT USE]\n",
    "\n",
    "'CURRENCY-CODE' - is this what kind of currency they are using?\n",
    "\n",
    "'TOTAL-TAX' - total tax on product customer bought\n",
    "\n",
    "'TOTAL AMOUNT' - total customer spent on product\n",
    "\n"
   ]
  },
  {
   "cell_type": "code",
   "execution_count": 5,
   "metadata": {},
   "outputs": [],
   "source": [
    "#Normalize Numeric fields\n",
    "\n",
    "def pre_process(df, dropcols=None):\n",
    "    '''\n",
    "    The pre_process function that will return a transformed dataframe\n",
    "    Notes:\n",
    "        1) dropcols should be a list\n",
    "        2) integer varibles are transformed using mean normalization\n",
    "    '''\n",
    "    #drop columns input by the user\n",
    "    if dropcols is not None:\n",
    "        df = df.drop(columns=dropcols)\n",
    "    \n",
    "    #loop through remaining columns and apply the appropreate transform\n",
    "    for i in df.columns:\n",
    "        '''\n",
    "        #mean normalization for int variables\n",
    "        if df[i].dtype == \"int64\" or df[i].dtype == 'float64':\n",
    "            mean = df[i].mean()\n",
    "            if (df[i].max() - df[i].min()) == 0:\n",
    "                denom = 1\n",
    "                print(\"useless int column\", i)\n",
    "                break\n",
    "            else:\n",
    "                denom = (df[i].max() - df[i].min())\n",
    "            df[i] = df[i].apply(lambda x: float(x - mean) / denom)\n",
    "        '''\n",
    "        #convert bool values to 1 and 0\n",
    "        if df[i].dtype == \"bool\":\n",
    "            df[i] = df[i].map({True: 1, False: 0})\n",
    "        elif df[i].dtype == \"object\":\n",
    "            df = pd.get_dummies(df, columns=[i], prefix = [i], dtype=\"int8\") #, sparse=True\n",
    "        \n",
    "    return df\n",
    "\n"
   ]
  },
  {
   "cell_type": "code",
   "execution_count": 6,
   "metadata": {},
   "outputs": [
    {
     "name": "stdout",
     "output_type": "stream",
     "text": [
      "done\n"
     ]
    }
   ],
   "source": [
    "clean_df = pre_process(non_auto_df, dropcols=['ID','Unnamed: 0', 'COLLECTION_STATUS', \\\n",
    "                                              'ESCALATION_STATUS', 'COLLECTOR_FORECAST',\n",
    "                                             'PAST_DUE_FLG', 'COURTESYSENT__C'])\n",
    "clean_df.to_csv('../Data/clean_df.csv')\n",
    "dtypes_df = clean_df.dtypes.to_frame('dtypes').reset_index()\n",
    "dtypes_df.to_csv('../Data/clean_dtypes.csv')\n",
    "print(\"done\")"
   ]
  },
  {
   "cell_type": "code",
   "execution_count": 7,
   "metadata": {},
   "outputs": [
    {
     "name": "stdout",
     "output_type": "stream",
     "text": [
      "51168040\n",
      "32371553\n",
      "done\n"
     ]
    }
   ],
   "source": [
    "'''\n",
    "Preprocessing DAYS_TO_PAY (first two already applied to global set?)\n",
    "'''\n",
    "\n",
    "print(clean_df.size)\n",
    "#remove all entries >365\n",
    "clean_df = clean_df.loc[lambda df: df['DAYS_TO_PAY'] <= 45]\n",
    "#remove all negative entries \n",
    "clean_df = clean_df.loc[lambda df: df['DAYS_TO_PAY'] >= 0 ]\n",
    "print(clean_df.size)\n",
    "print(\"done\")"
   ]
  },
  {
   "cell_type": "code",
   "execution_count": 8,
   "metadata": {},
   "outputs": [
    {
     "name": "stdout",
     "output_type": "stream",
     "text": [
      "0\n",
      "done\n"
     ]
    }
   ],
   "source": [
    "\n",
    "X = clean_df.loc[:, clean_df.columns != \"DAYS_TO_PAY\"]\n",
    "y = clean_df['DAYS_TO_PAY']\n",
    "\n",
    "X_train, X_test, y_train, y_test = train_test_split(X, y, test_size=0.20, random_state=42)\n",
    "X_train, X_valid, y_train, y_valid = train_test_split(X_train, y_train, test_size=0.20, random_state=42)\n",
    "print(min(y))\n",
    "print(\"done\")"
   ]
  },
  {
   "cell_type": "code",
   "execution_count": 9,
   "metadata": {},
   "outputs": [
    {
     "name": "stdout",
     "output_type": "stream",
     "text": [
      "Model using 1e-05 as the regularization coefficient completed in 1.06sec\n",
      "Model using 6e-05 as the regularization coefficient completed in 1.068sec\n",
      "Model using 0.00011 as the regularization coefficient completed in 1.278sec\n",
      "Model using 0.00016 as the regularization coefficient completed in 1.058sec\n",
      "Model using 0.00021 as the regularization coefficient completed in 1.136sec\n",
      "Model using 0.00026000000000000003 as the regularization coefficient completed in 1.138sec\n"
     ]
    },
    {
     "data": {
      "image/png": "[encoded data removed]",
      "text/plain": [
       "<Figure size 432x288 with 1 Axes>"
      ]
     },
     "metadata": {
      "needs_background": "light"
     },
     "output_type": "display_data"
    },
    {
     "name": "stdout",
     "output_type": "stream",
     "text": [
      "done\n"
     ]
    }
   ],
   "source": [
    "#Ridge Regression\n",
    "reg_coef_list = np.arange(.00001, .0003, .00005) #np.concatenate( (np.arange(0.05, 1.0, 0.05),np.arange(1, 10.0, 1)), axis=None) \n",
    "mse_list = []\n",
    "\n",
    "for coef in reg_coef_list:\n",
    "    start = time.process_time()\n",
    "    linreg = linear_model.Ridge(normalize = True, alpha=coef, max_iter=5000)\n",
    "    linreg.fit(X=X_train, y=y_train)\n",
    "    y_pred = linreg.predict(X_valid)\n",
    "    mae = metrics.mean_absolute_error(y_valid, y_pred)\n",
    "    mse_list.append(mae)\n",
    "    end = time.process_time()\n",
    "    print('Model using '+str(coef)+' as the regularization coefficient completed in '+str(round(end-start,3))+'sec')\n",
    "\n",
    "plt.plot(reg_coef_list, mse_list)\n",
    "plt.axvline(x=reg_coef_list[mse_list.index(min(mse_list))], color='orange', linestyle='--', \n",
    "            label='Min: Coef = {}'.format(reg_coef_list[mse_list.index(min(mse_list))])+' | MAE = {}'.format(max(mse_list)))\n",
    "plt.title(\"Regularization Coefficient Effect on MSE\")\n",
    "plt.xlabel(\"Regularization Coef\")\n",
    "plt.ylabel(\"MAE\")\n",
    "plt.legend()\n",
    "plt.show()\n",
    "print(\"done\")"
   ]
  },
  {
   "cell_type": "code",
   "execution_count": 10,
   "metadata": {},
   "outputs": [
    {
     "name": "stdout",
     "output_type": "stream",
     "text": [
      "Model using 2e-05 as the regularization coefficient completed in 6.942sec\n",
      "Model using 3.0000000000000004e-05 as the regularization coefficient completed in 5.04sec\n",
      "Model using 4.000000000000001e-05 as the regularization coefficient completed in 5.418sec\n",
      "Model using 5.000000000000001e-05 as the regularization coefficient completed in 5.176sec\n",
      "Model using 6.000000000000001e-05 as the regularization coefficient completed in 3.583sec\n",
      "Model using 7.000000000000001e-05 as the regularization coefficient completed in 3.209sec\n"
     ]
    },
    {
     "data": {
      "image/png": "[encoded data removed]",
      "text/plain": [
       "<Figure size 432x288 with 1 Axes>"
      ]
     },
     "metadata": {
      "needs_background": "light"
     },
     "output_type": "display_data"
    },
    {
     "name": "stdout",
     "output_type": "stream",
     "text": [
      "done\n"
     ]
    }
   ],
   "source": [
    "#Lasso Regression\n",
    "reg_coef_list = np.arange(.00002, .00008, .00001) #np.concatenate( (np.arange(0.05, 1.0, 0.05),np.arange(1, 10.0, 1)), axis=None) \n",
    "mse_list = []\n",
    "\n",
    "for coef in reg_coef_list:\n",
    "    start = time.process_time()\n",
    "    linreg = linear_model.Lasso(normalize = True, alpha=coef, max_iter=5000)\n",
    "    linreg.fit(X=X_train, y=y_train)\n",
    "    y_pred = linreg.predict(X_valid)\n",
    "    mae = metrics.mean_absolute_error(y_valid, y_pred)\n",
    "    mse_list.append(mae)\n",
    "    end = time.process_time()\n",
    "    print('Model using '+str(coef)+' as the regularization coefficient completed in '+str(round(end-start,3))+'sec')\n",
    "\n",
    "plt.plot(reg_coef_list, mse_list)\n",
    "plt.axvline(x=reg_coef_list[mse_list.index(min(mse_list))], color='orange', linestyle='--', \n",
    "            label='Min: Coef = {}'.format(reg_coef_list[mse_list.index(min(mse_list))])+' | Accuracy = {}'.format(max(mse_list)))\n",
    "plt.title(\"Regularization Coefficient Effect on MSE\")\n",
    "plt.xlabel(\"Regularization Coef\")\n",
    "plt.ylabel(\"MSE\")\n",
    "plt.legend()\n",
    "plt.show()\n",
    "print(\"done\")"
   ]
  },
  {
   "cell_type": "code",
   "execution_count": 11,
   "metadata": {},
   "outputs": [
    {
     "data": {
      "image/png": "[encoded data removed]",
      "text/plain": [
       "<Figure size 432x288 with 1 Axes>"
      ]
     },
     "metadata": {
      "needs_background": "light"
     },
     "output_type": "display_data"
    }
   ],
   "source": [
    "'''\n",
    "Visualize at best lambda\n",
    "'''\n",
    "\n",
    "linreg = linear_model.Ridge(normalize = True, alpha=.00011, max_iter=5000)\n",
    "linreg.fit(X=X_train, y=y_train)\n",
    "y_pred = linreg.predict(X_valid)\n",
    "plt.plot(y_valid, y_pred, 'ro')\n",
    "plt.plot(y_valid, y_valid, 'bo' )\n",
    "plt.show()\n"
   ]
  },
  {
   "cell_type": "code",
   "execution_count": null,
   "metadata": {},
   "outputs": [],
   "source": []
  }
 ],
 "metadata": {
  "kernelspec": {
   "display_name": "Python 3",
   "language": "python",
   "name": "python3"
  },
  "language_info": {
   "codemirror_mode": {
    "name": "ipython",
    "version": 3
   },
   "file_extension": ".py",
   "mimetype": "text/x-python",
   "name": "python",
   "nbconvert_exporter": "python",
   "pygments_lexer": "ipython3",
   "version": "3.7.2"
  }
 },
 "nbformat": 4,
 "nbformat_minor": 2
}
